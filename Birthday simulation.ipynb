{
 "cells": [
  {
   "cell_type": "code",
   "execution_count": 29,
   "metadata": {
    "collapsed": true
   },
   "outputs": [],
   "source": [
    "# The %... is an iPython thing, and is not part of the Python language.\n",
    "# In this case we're just telling the plotting library to draw things on\n",
    "# the notebook, instead of on a separate window.\n",
    "%matplotlib inline\n",
    "# See all the \"as ...\" contructs? They're just aliasing the package names.\n",
    "# That way we can call methods like plt.plot() instead of matplotlib.pyplot.plot().\n",
    "import numpy as np\n",
    "import scipy as sp\n",
    "import matplotlib as mpl\n",
    "import matplotlib.cm as cm\n",
    "import matplotlib.pyplot as plt\n",
    "import pandas as pd\n",
    "import time\n",
    "pd.set_option('display.width', 500)\n",
    "pd.set_option('display.max_columns', 100)\n",
    "pd.set_option('display.notebook_repr_html', True)\n",
    "import seaborn as sns\n",
    "sns.set_style(\"whitegrid\")\n",
    "sns.set_context(\"poster\")\n",
    "from decimal import *\n",
    "import math"
   ]
  },
  {
   "cell_type": "code",
   "execution_count": 12,
   "metadata": {},
   "outputs": [
    {
     "data": {
      "text/plain": [
       "array([ 18,  19,  30,  32,  33,  37,  37,  40,  41,  47,  48,  51,  57,\n",
       "        58,  58,  65,  67,  68,  69,  72,  73,  74,  79,  83,  91,  94,\n",
       "        95, 100, 100, 101, 106, 110, 113, 116, 122, 126, 133, 137, 144,\n",
       "       146, 148, 152, 154, 156, 173, 177, 180, 180, 182, 183, 184, 184,\n",
       "       185, 189, 191, 196, 199, 199, 202, 203, 203, 212, 214, 214, 219,\n",
       "       227, 230, 232, 234, 238, 248, 249, 250, 251, 258, 264, 266, 272,\n",
       "       285, 288, 288, 293, 298, 300, 301, 305, 313, 314, 316, 324, 327,\n",
       "       332, 334, 336, 342, 344, 346, 352, 359, 363])"
      ]
     },
     "execution_count": 12,
     "metadata": {},
     "output_type": "execute_result"
    }
   ],
   "source": [
    "def birthdays(n):\n",
    "    return np.random.randint(1,365,size=n)\n",
    "arr=birthdays(100)\n",
    "arr.sort()\n",
    "arr"
   ]
  },
  {
   "cell_type": "code",
   "execution_count": 66,
   "metadata": {},
   "outputs": [],
   "source": [
    "def simulate(n,k):\n",
    "    count=0;\n",
    "    for i in range(k):\n",
    "        flag=0\n",
    "        arr=birthdays(n)\n",
    "        arr.sort()\n",
    "        for j in range(n-1):\n",
    "            if arr[j]==arr[j+1]:\n",
    "                flag=1\n",
    "                break\n",
    "        if flag==1:\n",
    "            count=count+1\n",
    "    return Decimal(count)/Decimal(k)"
   ]
  },
  {
   "cell_type": "code",
   "execution_count": 71,
   "metadata": {},
   "outputs": [
    {
     "data": {
      "text/plain": [
       "Decimal('0.5054')"
      ]
     },
     "execution_count": 71,
     "metadata": {},
     "output_type": "execute_result"
    }
   ],
   "source": [
    "getcontext().prec = 10\n",
    "simulate(23,10000)"
   ]
  },
  {
   "cell_type": "code",
   "execution_count": null,
   "metadata": {
    "collapsed": true
   },
   "outputs": [],
   "source": []
  }
 ],
 "metadata": {
  "kernelspec": {
   "display_name": "Python 3",
   "language": "python",
   "name": "python3"
  },
  "language_info": {
   "codemirror_mode": {
    "name": "ipython",
    "version": 3
   },
   "file_extension": ".py",
   "mimetype": "text/x-python",
   "name": "python",
   "nbconvert_exporter": "python",
   "pygments_lexer": "ipython3",
   "version": "3.6.1"
  }
 },
 "nbformat": 4,
 "nbformat_minor": 2
}
